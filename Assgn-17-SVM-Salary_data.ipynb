{
 "cells": [
  {
   "cell_type": "code",
   "execution_count": 1,
   "id": "a16c13e1",
   "metadata": {
    "ExecuteTime": {
     "end_time": "2022-01-16T12:14:22.809413Z",
     "start_time": "2022-01-16T12:14:20.633034Z"
    }
   },
   "outputs": [],
   "source": [
    "#import statements\n",
    "import numpy as np\n",
    "\n",
    "import pandas as pd\n",
    "import seaborn as sns"
   ]
  },
  {
   "cell_type": "code",
   "execution_count": 2,
   "id": "eda63279",
   "metadata": {
    "ExecuteTime": {
     "end_time": "2022-01-16T12:15:01.823233Z",
     "start_time": "2022-01-16T12:15:01.489231Z"
    }
   },
   "outputs": [],
   "source": [
    "sal_train=pd.read_csv('SalaryData_Train.csv')\n",
    "sal_test=pd.read_csv('SalaryData_Test.csv')\n",
    "sal_train.columns\n",
    "sal_test.columns\n",
    "string_col=['workclass','education','maritalstatus','occupation','relationship','race','sex','native']\n",
    "\n",
    "from sklearn import preprocessing\n",
    "label_encoder=preprocessing.LabelEncoder()\n",
    "for i in string_col:\n",
    "    sal_train[i]=label_encoder.fit_transform(sal_train[i])\n",
    "    sal_test[i]=label_encoder.fit_transform(sal_test[i])"
   ]
  },
  {
   "cell_type": "code",
   "execution_count": 3,
   "id": "62de0467",
   "metadata": {
    "ExecuteTime": {
     "end_time": "2022-01-16T12:15:15.680658Z",
     "start_time": "2022-01-16T12:15:15.667655Z"
    }
   },
   "outputs": [],
   "source": [
    "#columns=list(sal_train.columns)\n",
    "#train_x=sal_train[columns[0:13]]\n",
    "#train_y=sal_train[columns[13]]\n",
    "#test_x=sal_test[columns[0:13]]\n",
    "#test_y=sal_test[columns[13]]\n",
    "\n",
    "train_x=sal_train.iloc[0:500,0:13]\n",
    "train_y=sal_train.iloc[0:500,13]\n",
    "test_x=sal_test.iloc[0:300,0:13]\n",
    "test_y=sal_test.iloc[0:300,13]"
   ]
  },
  {
   "cell_type": "code",
   "execution_count": 5,
   "id": "2240eb73",
   "metadata": {
    "ExecuteTime": {
     "end_time": "2022-01-16T12:19:59.035881Z",
     "start_time": "2022-01-16T12:18:11.186740Z"
    }
   },
   "outputs": [
    {
     "data": {
      "text/plain": [
       "0.818"
      ]
     },
     "execution_count": 5,
     "metadata": {},
     "output_type": "execute_result"
    }
   ],
   "source": [
    "#SVM Classification using kernels: linear,poly,rbf\n",
    "from sklearn.svm import SVC\n",
    "\n",
    "#kernel=linear\n",
    "model_linear=SVC(kernel='linear')\n",
    "model_linear.fit(train_x,train_y)\n",
    "train_pred_lin=model_linear.predict(train_x)\n",
    "test_pred_lin=model_linear.predict(test_x)\n",
    "train_lin_acc=np.mean(train_pred_lin==train_y)\n",
    "test_lin_acc=np.mean(test_pred_lin==test_y)\n",
    "train_lin_acc#81.8\n"
   ]
  },
  {
   "cell_type": "code",
   "execution_count": 6,
   "id": "ba82c89e",
   "metadata": {
    "ExecuteTime": {
     "end_time": "2022-01-16T12:20:04.044446Z",
     "start_time": "2022-01-16T12:20:04.037446Z"
    }
   },
   "outputs": [
    {
     "data": {
      "text/plain": [
       "0.8166666666666667"
      ]
     },
     "execution_count": 6,
     "metadata": {},
     "output_type": "execute_result"
    }
   ],
   "source": [
    "test_lin_acc#81.6"
   ]
  },
  {
   "cell_type": "code",
   "execution_count": 7,
   "id": "11683c38",
   "metadata": {
    "ExecuteTime": {
     "end_time": "2022-01-16T12:20:07.222688Z",
     "start_time": "2022-01-16T12:20:07.193690Z"
    }
   },
   "outputs": [
    {
     "data": {
      "text/plain": [
       "0.812"
      ]
     },
     "execution_count": 7,
     "metadata": {},
     "output_type": "execute_result"
    }
   ],
   "source": [
    "#kernel=poly\n",
    "model_poly=SVC(kernel='poly')\n",
    "model_poly.fit(train_x,train_y)\n",
    "train_pred_poly=model_poly.predict(train_x)\n",
    "test_pred_poly=model_poly.predict(test_x)\n",
    "train_poly_acc=np.mean(train_pred_poly==train_y)\n",
    "test_poly_acc=np.mean(test_pred_poly==test_y)\n",
    "train_poly_acc#81.2\n"
   ]
  },
  {
   "cell_type": "code",
   "execution_count": 8,
   "id": "78a87738",
   "metadata": {
    "ExecuteTime": {
     "end_time": "2022-01-16T12:20:11.677688Z",
     "start_time": "2022-01-16T12:20:11.672679Z"
    }
   },
   "outputs": [
    {
     "data": {
      "text/plain": [
       "0.8033333333333333"
      ]
     },
     "execution_count": 8,
     "metadata": {},
     "output_type": "execute_result"
    }
   ],
   "source": [
    "test_poly_acc#80.33"
   ]
  },
  {
   "cell_type": "code",
   "execution_count": 9,
   "id": "712bc3bf",
   "metadata": {
    "ExecuteTime": {
     "end_time": "2022-01-16T12:20:56.126378Z",
     "start_time": "2022-01-16T12:20:56.076379Z"
    }
   },
   "outputs": [
    {
     "data": {
      "text/plain": [
       "0.812"
      ]
     },
     "execution_count": 9,
     "metadata": {},
     "output_type": "execute_result"
    }
   ],
   "source": [
    "#kernel=rbf\n",
    "model_rbf=SVC(kernel='rbf')\n",
    "model_rbf.fit(train_x,train_y)\n",
    "train_pred_rbf=model_rbf.predict(train_x)\n",
    "test_pred_rbf=model_rbf.predict(test_x)\n",
    "train_rbf_acc=np.mean(train_pred_rbf==train_y)\n",
    "test_rbf_acc=np.mean(test_pred_rbf==test_y)\n",
    "train_rbf_acc#81.2\n"
   ]
  },
  {
   "cell_type": "code",
   "execution_count": 10,
   "id": "23265248",
   "metadata": {
    "ExecuteTime": {
     "end_time": "2022-01-16T12:20:57.629554Z",
     "start_time": "2022-01-16T12:20:57.624553Z"
    }
   },
   "outputs": [
    {
     "data": {
      "text/plain": [
       "0.8033333333333333"
      ]
     },
     "execution_count": 10,
     "metadata": {},
     "output_type": "execute_result"
    }
   ],
   "source": [
    "test_rbf_acc#80.33"
   ]
  }
 ],
 "metadata": {
  "kernelspec": {
   "display_name": "Python 3",
   "language": "python",
   "name": "python3"
  },
  "language_info": {
   "codemirror_mode": {
    "name": "ipython",
    "version": 3
   },
   "file_extension": ".py",
   "mimetype": "text/x-python",
   "name": "python",
   "nbconvert_exporter": "python",
   "pygments_lexer": "ipython3",
   "version": "3.8.8"
  }
 },
 "nbformat": 4,
 "nbformat_minor": 5
}
